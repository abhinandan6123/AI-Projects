{
  "nbformat": 4,
  "nbformat_minor": 0,
  "metadata": {
    "colab": {
      "provenance": [],
      "authorship_tag": "ABX9TyPJQ/N2J2qCOrIcUfxqrc1R",
      "include_colab_link": true
    },
    "kernelspec": {
      "name": "python3",
      "display_name": "Python 3"
    },
    "language_info": {
      "name": "python"
    }
  },
  "cells": [
    {
      "cell_type": "markdown",
      "metadata": {
        "id": "view-in-github",
        "colab_type": "text"
      },
      "source": [
        "<a href=\"https://colab.research.google.com/github/abhinandan6123/AI-Projects/blob/main/Observations_and_Insights.ipynb\" target=\"_parent\"><img src=\"https://colab.research.google.com/assets/colab-badge.svg\" alt=\"Open In Colab\"/></a>"
      ]
    },
    {
      "cell_type": "code",
      "source": [
        "\n",
        "# Step 1: Import necessary libraries\n",
        "import pandas as pd\n",
        "import numpy as np\n",
        "import matplotlib.pyplot as plt\n",
        "import seaborn as sns\n",
        "\n",
        "\n",
        "\n",
        "# Step 2: Load the dataset\n",
        "# Upload your file manually when prompted by Colab\n",
        "from google.colab import files\n",
        "uploaded = files.upload()\n",
        "\n",
        "\n",
        "\n"
      ],
      "metadata": {
        "colab": {
          "base_uri": "https://localhost:8080/",
          "height": 73
        },
        "id": "KaGqiVZhI9Uh",
        "outputId": "597376c1-a538-462b-e3de-063485fcbd68"
      },
      "execution_count": 2,
      "outputs": [
        {
          "output_type": "display_data",
          "data": {
            "text/plain": [
              "<IPython.core.display.HTML object>"
            ],
            "text/html": [
              "\n",
              "     <input type=\"file\" id=\"files-c3c44c13-4b59-4423-a82e-31953e14a80c\" name=\"files[]\" multiple disabled\n",
              "        style=\"border:none\" />\n",
              "     <output id=\"result-c3c44c13-4b59-4423-a82e-31953e14a80c\">\n",
              "      Upload widget is only available when the cell has been executed in the\n",
              "      current browser session. Please rerun this cell to enable.\n",
              "      </output>\n",
              "      <script>// Copyright 2017 Google LLC\n",
              "//\n",
              "// Licensed under the Apache License, Version 2.0 (the \"License\");\n",
              "// you may not use this file except in compliance with the License.\n",
              "// You may obtain a copy of the License at\n",
              "//\n",
              "//      http://www.apache.org/licenses/LICENSE-2.0\n",
              "//\n",
              "// Unless required by applicable law or agreed to in writing, software\n",
              "// distributed under the License is distributed on an \"AS IS\" BASIS,\n",
              "// WITHOUT WARRANTIES OR CONDITIONS OF ANY KIND, either express or implied.\n",
              "// See the License for the specific language governing permissions and\n",
              "// limitations under the License.\n",
              "\n",
              "/**\n",
              " * @fileoverview Helpers for google.colab Python module.\n",
              " */\n",
              "(function(scope) {\n",
              "function span(text, styleAttributes = {}) {\n",
              "  const element = document.createElement('span');\n",
              "  element.textContent = text;\n",
              "  for (const key of Object.keys(styleAttributes)) {\n",
              "    element.style[key] = styleAttributes[key];\n",
              "  }\n",
              "  return element;\n",
              "}\n",
              "\n",
              "// Max number of bytes which will be uploaded at a time.\n",
              "const MAX_PAYLOAD_SIZE = 100 * 1024;\n",
              "\n",
              "function _uploadFiles(inputId, outputId) {\n",
              "  const steps = uploadFilesStep(inputId, outputId);\n",
              "  const outputElement = document.getElementById(outputId);\n",
              "  // Cache steps on the outputElement to make it available for the next call\n",
              "  // to uploadFilesContinue from Python.\n",
              "  outputElement.steps = steps;\n",
              "\n",
              "  return _uploadFilesContinue(outputId);\n",
              "}\n",
              "\n",
              "// This is roughly an async generator (not supported in the browser yet),\n",
              "// where there are multiple asynchronous steps and the Python side is going\n",
              "// to poll for completion of each step.\n",
              "// This uses a Promise to block the python side on completion of each step,\n",
              "// then passes the result of the previous step as the input to the next step.\n",
              "function _uploadFilesContinue(outputId) {\n",
              "  const outputElement = document.getElementById(outputId);\n",
              "  const steps = outputElement.steps;\n",
              "\n",
              "  const next = steps.next(outputElement.lastPromiseValue);\n",
              "  return Promise.resolve(next.value.promise).then((value) => {\n",
              "    // Cache the last promise value to make it available to the next\n",
              "    // step of the generator.\n",
              "    outputElement.lastPromiseValue = value;\n",
              "    return next.value.response;\n",
              "  });\n",
              "}\n",
              "\n",
              "/**\n",
              " * Generator function which is called between each async step of the upload\n",
              " * process.\n",
              " * @param {string} inputId Element ID of the input file picker element.\n",
              " * @param {string} outputId Element ID of the output display.\n",
              " * @return {!Iterable<!Object>} Iterable of next steps.\n",
              " */\n",
              "function* uploadFilesStep(inputId, outputId) {\n",
              "  const inputElement = document.getElementById(inputId);\n",
              "  inputElement.disabled = false;\n",
              "\n",
              "  const outputElement = document.getElementById(outputId);\n",
              "  outputElement.innerHTML = '';\n",
              "\n",
              "  const pickedPromise = new Promise((resolve) => {\n",
              "    inputElement.addEventListener('change', (e) => {\n",
              "      resolve(e.target.files);\n",
              "    });\n",
              "  });\n",
              "\n",
              "  const cancel = document.createElement('button');\n",
              "  inputElement.parentElement.appendChild(cancel);\n",
              "  cancel.textContent = 'Cancel upload';\n",
              "  const cancelPromise = new Promise((resolve) => {\n",
              "    cancel.onclick = () => {\n",
              "      resolve(null);\n",
              "    };\n",
              "  });\n",
              "\n",
              "  // Wait for the user to pick the files.\n",
              "  const files = yield {\n",
              "    promise: Promise.race([pickedPromise, cancelPromise]),\n",
              "    response: {\n",
              "      action: 'starting',\n",
              "    }\n",
              "  };\n",
              "\n",
              "  cancel.remove();\n",
              "\n",
              "  // Disable the input element since further picks are not allowed.\n",
              "  inputElement.disabled = true;\n",
              "\n",
              "  if (!files) {\n",
              "    return {\n",
              "      response: {\n",
              "        action: 'complete',\n",
              "      }\n",
              "    };\n",
              "  }\n",
              "\n",
              "  for (const file of files) {\n",
              "    const li = document.createElement('li');\n",
              "    li.append(span(file.name, {fontWeight: 'bold'}));\n",
              "    li.append(span(\n",
              "        `(${file.type || 'n/a'}) - ${file.size} bytes, ` +\n",
              "        `last modified: ${\n",
              "            file.lastModifiedDate ? file.lastModifiedDate.toLocaleDateString() :\n",
              "                                    'n/a'} - `));\n",
              "    const percent = span('0% done');\n",
              "    li.appendChild(percent);\n",
              "\n",
              "    outputElement.appendChild(li);\n",
              "\n",
              "    const fileDataPromise = new Promise((resolve) => {\n",
              "      const reader = new FileReader();\n",
              "      reader.onload = (e) => {\n",
              "        resolve(e.target.result);\n",
              "      };\n",
              "      reader.readAsArrayBuffer(file);\n",
              "    });\n",
              "    // Wait for the data to be ready.\n",
              "    let fileData = yield {\n",
              "      promise: fileDataPromise,\n",
              "      response: {\n",
              "        action: 'continue',\n",
              "      }\n",
              "    };\n",
              "\n",
              "    // Use a chunked sending to avoid message size limits. See b/62115660.\n",
              "    let position = 0;\n",
              "    do {\n",
              "      const length = Math.min(fileData.byteLength - position, MAX_PAYLOAD_SIZE);\n",
              "      const chunk = new Uint8Array(fileData, position, length);\n",
              "      position += length;\n",
              "\n",
              "      const base64 = btoa(String.fromCharCode.apply(null, chunk));\n",
              "      yield {\n",
              "        response: {\n",
              "          action: 'append',\n",
              "          file: file.name,\n",
              "          data: base64,\n",
              "        },\n",
              "      };\n",
              "\n",
              "      let percentDone = fileData.byteLength === 0 ?\n",
              "          100 :\n",
              "          Math.round((position / fileData.byteLength) * 100);\n",
              "      percent.textContent = `${percentDone}% done`;\n",
              "\n",
              "    } while (position < fileData.byteLength);\n",
              "  }\n",
              "\n",
              "  // All done.\n",
              "  yield {\n",
              "    response: {\n",
              "      action: 'complete',\n",
              "    }\n",
              "  };\n",
              "}\n",
              "\n",
              "scope.google = scope.google || {};\n",
              "scope.google.colab = scope.google.colab || {};\n",
              "scope.google.colab._files = {\n",
              "  _uploadFiles,\n",
              "  _uploadFilesContinue,\n",
              "};\n",
              "})(self);\n",
              "</script> "
            ]
          },
          "metadata": {}
        },
        {
          "output_type": "stream",
          "name": "stdout",
          "text": [
            "Saving processed_logistics_data (2).csv to processed_logistics_data (2).csv\n"
          ]
        }
      ]
    },
    {
      "cell_type": "code",
      "execution_count": 4,
      "metadata": {
        "colab": {
          "base_uri": "https://localhost:8080/"
        },
        "id": "OnjNBYaTIkRV",
        "outputId": "5c2a7273-3631-424b-fb08-f1870f21f046"
      },
      "outputs": [
        {
          "output_type": "execute_result",
          "data": {
            "text/plain": [
              "{'columns': ['data',\n",
              "  'trip_creation_time',\n",
              "  'route_schedule_uuid',\n",
              "  'route_type',\n",
              "  'trip_uuid',\n",
              "  'source_center',\n",
              "  'source_name',\n",
              "  'destination_center',\n",
              "  'destination_name',\n",
              "  'od_start_time',\n",
              "  'od_end_time',\n",
              "  'start_scan_to_end_scan',\n",
              "  'is_cutoff',\n",
              "  'cutoff_factor',\n",
              "  'cutoff_timestamp',\n",
              "  'actual_distance_to_destination',\n",
              "  'actual_time',\n",
              "  'osrm_time',\n",
              "  'osrm_distance',\n",
              "  'factor',\n",
              "  'segment_actual_time',\n",
              "  'segment_osrm_time',\n",
              "  'segment_osrm_distance',\n",
              "  'segment_factor',\n",
              "  'trip_duration',\n",
              "  'trip_creation_day',\n",
              "  'trip_creation_month'],\n",
              " 'num_rows': 227,\n",
              " 'num_columns': 27,\n",
              " 'sample_data':        data       trip_creation_time  \\\n",
              " 0  training  2018-09-20 02:35:36.477   \n",
              " 1  training  2018-09-20 02:35:36.477   \n",
              " 2  training  2018-09-20 02:35:36.477   \n",
              " 3  training  2018-09-20 02:35:36.477   \n",
              " 4  training  2018-09-20 02:35:36.477   \n",
              " \n",
              "                                  route_schedule_uuid route_type  \\\n",
              " 0  thanos::sroute:eb7bfc78-b351-4c0e-a951-fa3d5c3...    Carting   \n",
              " 1  thanos::sroute:eb7bfc78-b351-4c0e-a951-fa3d5c3...    Carting   \n",
              " 2  thanos::sroute:eb7bfc78-b351-4c0e-a951-fa3d5c3...    Carting   \n",
              " 3  thanos::sroute:eb7bfc78-b351-4c0e-a951-fa3d5c3...    Carting   \n",
              " 4  thanos::sroute:eb7bfc78-b351-4c0e-a951-fa3d5c3...    Carting   \n",
              " \n",
              "                  trip_uuid source_center                 source_name  \\\n",
              " 0  trip-153741093647649320  IND388121AAA  Anand_VUNagar_DC (Gujarat)   \n",
              " 1  trip-153741093647649320  IND388121AAA  Anand_VUNagar_DC (Gujarat)   \n",
              " 2  trip-153741093647649320  IND388121AAA  Anand_VUNagar_DC (Gujarat)   \n",
              " 3  trip-153741093647649320  IND388121AAA  Anand_VUNagar_DC (Gujarat)   \n",
              " 4  trip-153741093647649320  IND388121AAA  Anand_VUNagar_DC (Gujarat)   \n",
              " \n",
              "   destination_center               destination_name            od_start_time  \\\n",
              " 0       IND388620AAB  Khambhat_MotvdDPP_D (Gujarat)  2018-09-20 03:21:32.419   \n",
              " 1       IND388620AAB  Khambhat_MotvdDPP_D (Gujarat)  2018-09-20 03:21:32.419   \n",
              " 2       IND388620AAB  Khambhat_MotvdDPP_D (Gujarat)  2018-09-20 03:21:32.419   \n",
              " 3       IND388620AAB  Khambhat_MotvdDPP_D (Gujarat)  2018-09-20 03:21:32.419   \n",
              " 4       IND388620AAB  Khambhat_MotvdDPP_D (Gujarat)  2018-09-20 03:21:32.419   \n",
              " \n",
              "    ... osrm_time  osrm_distance    factor  segment_actual_time  \\\n",
              " 0  ...      11.0       0.003793  1.272727                 14.0   \n",
              " 1  ...      20.0       0.022038  1.200000                 10.0   \n",
              " 2  ...      28.0       0.042258  1.428571                 16.0   \n",
              " 3  ...      40.0       0.066604  1.550000                 21.0   \n",
              " 4  ...      44.0       0.082787  1.545455                  6.0   \n",
              " \n",
              "   segment_osrm_time  segment_osrm_distance  segment_factor  trip_duration  \\\n",
              " 0              11.0                11.9653        1.272727       0.026549   \n",
              " 1               9.0                 9.7590        1.111111       0.026549   \n",
              " 2               7.0                10.8152        2.285714       0.026549   \n",
              " 3              12.0                13.0224        1.750000       0.026549   \n",
              " 4               5.0                 3.9153        1.200000       0.026549   \n",
              " \n",
              "    trip_creation_day  trip_creation_month  \n",
              " 0           Thursday                    9  \n",
              " 1           Thursday                    9  \n",
              " 2           Thursday                    9  \n",
              " 3           Thursday                    9  \n",
              " 4           Thursday                    9  \n",
              " \n",
              " [5 rows x 27 columns]}"
            ]
          },
          "metadata": {},
          "execution_count": 4
        }
      ],
      "source": [
        "# # Loading the uploaded CSV file to understand its structure and content for analysis\n",
        "import pandas as pd\n",
        "import io\n",
        "\n",
        "# Access the uploaded file from the 'uploaded' dictionary\n",
        "# Assuming 'processed_logistics_data (2).csv' is the filename in the dictionary\n",
        "file_name = 'processed_logistics_data (2).csv'  # Replace with the actual file name if different\n",
        "data = pd.read_csv(io.BytesIO(uploaded[file_name]))\n",
        "\n",
        "# Display basic information about the data\n",
        "data_info = {\n",
        "    \"columns\": data.columns.tolist(),\n",
        "    \"num_rows\": data.shape[0],\n",
        "    \"num_columns\": data.shape[1],\n",
        "    \"sample_data\": data.head()\n",
        "}\n",
        "data_info\n"
      ]
    },
    {
      "cell_type": "markdown",
      "source": [
        "The dataset contains 27 columns and 227 rows, with features that include both numerical and categorical variables."
      ],
      "metadata": {
        "id": "SSWVEM_8KB1w"
      }
    },
    {
      "cell_type": "markdown",
      "source": [
        "**Here's a brief analysis of how you might approach each type of observation:**"
      ],
      "metadata": {
        "id": "0YHhsv_nKK3d"
      }
    },
    {
      "cell_type": "markdown",
      "source": [
        "**Univariate Observations**\n"
      ],
      "metadata": {
        "id": "tydpuNFPKPNQ"
      }
    },
    {
      "cell_type": "markdown",
      "source": [
        "**1. Numerical Features:**\n",
        "\n",
        "Analyze which features have a normal distribution, are skewed, or contain outliers. This can be done using histograms or summary statistics.\n",
        "\n",
        "**Example numerical features:**\n",
        "\n",
        "actual_distance_to_destination, actual_time, osrm_time, trip_duration, etc."
      ],
      "metadata": {
        "id": "IVh9plSoKUcd"
      }
    },
    {
      "cell_type": "markdown",
      "source": [
        "**Categorical Features:**\n",
        "\n",
        "Determine dominant or evenly distributed categories for features like route_type, source_center, and destination_center.\n",
        "\n",
        "Frequency counts or bar plots can highlight which categories are dominant."
      ],
      "metadata": {
        "id": "tn_R6Kx1KfnM"
      }
    },
    {
      "cell_type": "markdown",
      "source": [
        "**Bivariate Observations**"
      ],
      "metadata": {
        "id": "UzXAln4VKoWb"
      }
    },
    {
      "cell_type": "markdown",
      "source": [
        "**1. Numerical Pairs:**\n",
        "\n",
        "Identify high correlations and trends between pairs of numerical features, such as actual_time vs. osrm_time or actual_distance_to_destination vs. osrm_distance.\n",
        "\n",
        "A heatmap or scatter plots are useful here."
      ],
      "metadata": {
        "id": "S8zK2dlmKspU"
      }
    },
    {
      "cell_type": "markdown",
      "source": [
        "**2. Categorical vs. Numerical:**\n",
        "\n",
        "Analyze how numerical features vary across different categories. For example, differences in trip_duration based on route_type can reveal significant patterns.\n",
        "\n",
        "Box plots or violin plots can be helpful for this comparison."
      ],
      "metadata": {
        "id": "hi9wc6EFKzg8"
      }
    },
    {
      "cell_type": "markdown",
      "source": [
        "**Multivariate Observations**"
      ],
      "metadata": {
        "id": "ZvQ3zL2OK8YN"
      }
    },
    {
      "cell_type": "markdown",
      "source": [
        "**1. PCA Plot for Clustering:**\n",
        "\n",
        "Conduct PCA on the numerical features to reduce dimensionality and visualize if any clusters are formed, indicating natural groupings within the data."
      ],
      "metadata": {
        "id": "fX7P1AKtLB65"
      }
    },
    {
      "cell_type": "markdown",
      "source": [
        "**2.Parallel Coordinates:**\n",
        "\n",
        "\n",
        "Use parallel coordinates to explore patterns across multiple dimensions, focusing on specific categories to see if there are consistent patterns across features."
      ],
      "metadata": {
        "id": "kpinaAjULH5V"
      }
    },
    {
      "cell_type": "markdown",
      "source": [],
      "metadata": {
        "id": "QpGQ2cr0LNMJ"
      }
    }
  ]
}