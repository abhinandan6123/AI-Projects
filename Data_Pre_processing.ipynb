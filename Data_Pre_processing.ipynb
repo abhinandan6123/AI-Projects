{
  "nbformat": 4,
  "nbformat_minor": 0,
  "metadata": {
    "colab": {
      "provenance": [],
      "authorship_tag": "ABX9TyPAej92Wu+NWC4oRN8kded2",
      "include_colab_link": true
    },
    "kernelspec": {
      "name": "python3",
      "display_name": "Python 3"
    },
    "language_info": {
      "name": "python"
    }
  },
  "cells": [
    {
      "cell_type": "markdown",
      "metadata": {
        "id": "view-in-github",
        "colab_type": "text"
      },
      "source": [
        "<a href=\"https://colab.research.google.com/github/abhinandan6123/AI-Projects/blob/main/Data_Pre_processing.ipynb\" target=\"_parent\"><img src=\"https://colab.research.google.com/assets/colab-badge.svg\" alt=\"Open In Colab\"/></a>"
      ]
    },
    {
      "cell_type": "code",
      "execution_count": 1,
      "metadata": {
        "colab": {
          "base_uri": "https://localhost:8080/",
          "height": 145
        },
        "id": "4LGZ8ZQjcaFM",
        "outputId": "c1e670ec-3d4b-4ea8-bffb-3cceffcc4a6e"
      },
      "outputs": [
        {
          "output_type": "display_data",
          "data": {
            "text/plain": [
              "<IPython.core.display.HTML object>"
            ],
            "text/html": [
              "\n",
              "     <input type=\"file\" id=\"files-f572414a-5dbd-40aa-9d94-73789a438d99\" name=\"files[]\" multiple disabled\n",
              "        style=\"border:none\" />\n",
              "     <output id=\"result-f572414a-5dbd-40aa-9d94-73789a438d99\">\n",
              "      Upload widget is only available when the cell has been executed in the\n",
              "      current browser session. Please rerun this cell to enable.\n",
              "      </output>\n",
              "      <script>// Copyright 2017 Google LLC\n",
              "//\n",
              "// Licensed under the Apache License, Version 2.0 (the \"License\");\n",
              "// you may not use this file except in compliance with the License.\n",
              "// You may obtain a copy of the License at\n",
              "//\n",
              "//      http://www.apache.org/licenses/LICENSE-2.0\n",
              "//\n",
              "// Unless required by applicable law or agreed to in writing, software\n",
              "// distributed under the License is distributed on an \"AS IS\" BASIS,\n",
              "// WITHOUT WARRANTIES OR CONDITIONS OF ANY KIND, either express or implied.\n",
              "// See the License for the specific language governing permissions and\n",
              "// limitations under the License.\n",
              "\n",
              "/**\n",
              " * @fileoverview Helpers for google.colab Python module.\n",
              " */\n",
              "(function(scope) {\n",
              "function span(text, styleAttributes = {}) {\n",
              "  const element = document.createElement('span');\n",
              "  element.textContent = text;\n",
              "  for (const key of Object.keys(styleAttributes)) {\n",
              "    element.style[key] = styleAttributes[key];\n",
              "  }\n",
              "  return element;\n",
              "}\n",
              "\n",
              "// Max number of bytes which will be uploaded at a time.\n",
              "const MAX_PAYLOAD_SIZE = 100 * 1024;\n",
              "\n",
              "function _uploadFiles(inputId, outputId) {\n",
              "  const steps = uploadFilesStep(inputId, outputId);\n",
              "  const outputElement = document.getElementById(outputId);\n",
              "  // Cache steps on the outputElement to make it available for the next call\n",
              "  // to uploadFilesContinue from Python.\n",
              "  outputElement.steps = steps;\n",
              "\n",
              "  return _uploadFilesContinue(outputId);\n",
              "}\n",
              "\n",
              "// This is roughly an async generator (not supported in the browser yet),\n",
              "// where there are multiple asynchronous steps and the Python side is going\n",
              "// to poll for completion of each step.\n",
              "// This uses a Promise to block the python side on completion of each step,\n",
              "// then passes the result of the previous step as the input to the next step.\n",
              "function _uploadFilesContinue(outputId) {\n",
              "  const outputElement = document.getElementById(outputId);\n",
              "  const steps = outputElement.steps;\n",
              "\n",
              "  const next = steps.next(outputElement.lastPromiseValue);\n",
              "  return Promise.resolve(next.value.promise).then((value) => {\n",
              "    // Cache the last promise value to make it available to the next\n",
              "    // step of the generator.\n",
              "    outputElement.lastPromiseValue = value;\n",
              "    return next.value.response;\n",
              "  });\n",
              "}\n",
              "\n",
              "/**\n",
              " * Generator function which is called between each async step of the upload\n",
              " * process.\n",
              " * @param {string} inputId Element ID of the input file picker element.\n",
              " * @param {string} outputId Element ID of the output display.\n",
              " * @return {!Iterable<!Object>} Iterable of next steps.\n",
              " */\n",
              "function* uploadFilesStep(inputId, outputId) {\n",
              "  const inputElement = document.getElementById(inputId);\n",
              "  inputElement.disabled = false;\n",
              "\n",
              "  const outputElement = document.getElementById(outputId);\n",
              "  outputElement.innerHTML = '';\n",
              "\n",
              "  const pickedPromise = new Promise((resolve) => {\n",
              "    inputElement.addEventListener('change', (e) => {\n",
              "      resolve(e.target.files);\n",
              "    });\n",
              "  });\n",
              "\n",
              "  const cancel = document.createElement('button');\n",
              "  inputElement.parentElement.appendChild(cancel);\n",
              "  cancel.textContent = 'Cancel upload';\n",
              "  const cancelPromise = new Promise((resolve) => {\n",
              "    cancel.onclick = () => {\n",
              "      resolve(null);\n",
              "    };\n",
              "  });\n",
              "\n",
              "  // Wait for the user to pick the files.\n",
              "  const files = yield {\n",
              "    promise: Promise.race([pickedPromise, cancelPromise]),\n",
              "    response: {\n",
              "      action: 'starting',\n",
              "    }\n",
              "  };\n",
              "\n",
              "  cancel.remove();\n",
              "\n",
              "  // Disable the input element since further picks are not allowed.\n",
              "  inputElement.disabled = true;\n",
              "\n",
              "  if (!files) {\n",
              "    return {\n",
              "      response: {\n",
              "        action: 'complete',\n",
              "      }\n",
              "    };\n",
              "  }\n",
              "\n",
              "  for (const file of files) {\n",
              "    const li = document.createElement('li');\n",
              "    li.append(span(file.name, {fontWeight: 'bold'}));\n",
              "    li.append(span(\n",
              "        `(${file.type || 'n/a'}) - ${file.size} bytes, ` +\n",
              "        `last modified: ${\n",
              "            file.lastModifiedDate ? file.lastModifiedDate.toLocaleDateString() :\n",
              "                                    'n/a'} - `));\n",
              "    const percent = span('0% done');\n",
              "    li.appendChild(percent);\n",
              "\n",
              "    outputElement.appendChild(li);\n",
              "\n",
              "    const fileDataPromise = new Promise((resolve) => {\n",
              "      const reader = new FileReader();\n",
              "      reader.onload = (e) => {\n",
              "        resolve(e.target.result);\n",
              "      };\n",
              "      reader.readAsArrayBuffer(file);\n",
              "    });\n",
              "    // Wait for the data to be ready.\n",
              "    let fileData = yield {\n",
              "      promise: fileDataPromise,\n",
              "      response: {\n",
              "        action: 'continue',\n",
              "      }\n",
              "    };\n",
              "\n",
              "    // Use a chunked sending to avoid message size limits. See b/62115660.\n",
              "    let position = 0;\n",
              "    do {\n",
              "      const length = Math.min(fileData.byteLength - position, MAX_PAYLOAD_SIZE);\n",
              "      const chunk = new Uint8Array(fileData, position, length);\n",
              "      position += length;\n",
              "\n",
              "      const base64 = btoa(String.fromCharCode.apply(null, chunk));\n",
              "      yield {\n",
              "        response: {\n",
              "          action: 'append',\n",
              "          file: file.name,\n",
              "          data: base64,\n",
              "        },\n",
              "      };\n",
              "\n",
              "      let percentDone = fileData.byteLength === 0 ?\n",
              "          100 :\n",
              "          Math.round((position / fileData.byteLength) * 100);\n",
              "      percent.textContent = `${percentDone}% done`;\n",
              "\n",
              "    } while (position < fileData.byteLength);\n",
              "  }\n",
              "\n",
              "  // All done.\n",
              "  yield {\n",
              "    response: {\n",
              "      action: 'complete',\n",
              "    }\n",
              "  };\n",
              "}\n",
              "\n",
              "scope.google = scope.google || {};\n",
              "scope.google.colab = scope.google.colab || {};\n",
              "scope.google.colab._files = {\n",
              "  _uploadFiles,\n",
              "  _uploadFilesContinue,\n",
              "};\n",
              "})(self);\n",
              "</script> "
            ]
          },
          "metadata": {}
        },
        {
          "output_type": "stream",
          "name": "stdout",
          "text": [
            "Saving delhivery.xlsx to delhivery.xlsx\n"
          ]
        }
      ],
      "source": [
        "\n",
        "from google.colab import files\n",
        "uploaded = files.upload()"
      ]
    },
    {
      "cell_type": "code",
      "source": [
        "import pandas as pd\n",
        "import numpy as np"
      ],
      "metadata": {
        "id": "cPBy3tiPco4G"
      },
      "execution_count": 2,
      "outputs": []
    },
    {
      "cell_type": "code",
      "source": [
        "# Load the Excel file\n",
        "data = pd.read_excel('delhivery.xlsx')\n",
        "\n",
        "# Display basic information about the dataset\n",
        "print(data.head())      # Preview the first few rows\n",
        "print(data.info())      # Show column data types and non-null counts\n",
        "print(data.isnull().sum())  # Check for missing values in each column"
      ],
      "metadata": {
        "colab": {
          "base_uri": "https://localhost:8080/"
        },
        "id": "3dUcLn8Mcr8v",
        "outputId": "919c319a-ca98-42e1-a98f-76674be3173e"
      },
      "execution_count": 3,
      "outputs": [
        {
          "output_type": "stream",
          "name": "stdout",
          "text": [
            "       data      trip_creation_time  \\\n",
            "0  training 2018-09-20 02:35:36.477   \n",
            "1  training 2018-09-20 02:35:36.477   \n",
            "2  training 2018-09-20 02:35:36.477   \n",
            "3  training 2018-09-20 02:35:36.477   \n",
            "4  training 2018-09-20 02:35:36.477   \n",
            "\n",
            "                                 route_schedule_uuid route_type  \\\n",
            "0  thanos::sroute:eb7bfc78-b351-4c0e-a951-fa3d5c3...    Carting   \n",
            "1  thanos::sroute:eb7bfc78-b351-4c0e-a951-fa3d5c3...    Carting   \n",
            "2  thanos::sroute:eb7bfc78-b351-4c0e-a951-fa3d5c3...    Carting   \n",
            "3  thanos::sroute:eb7bfc78-b351-4c0e-a951-fa3d5c3...    Carting   \n",
            "4  thanos::sroute:eb7bfc78-b351-4c0e-a951-fa3d5c3...    Carting   \n",
            "\n",
            "                 trip_uuid source_center                 source_name  \\\n",
            "0  trip-153741093647649320  IND388121AAA  Anand_VUNagar_DC (Gujarat)   \n",
            "1  trip-153741093647649320  IND388121AAA  Anand_VUNagar_DC (Gujarat)   \n",
            "2  trip-153741093647649320  IND388121AAA  Anand_VUNagar_DC (Gujarat)   \n",
            "3  trip-153741093647649320  IND388121AAA  Anand_VUNagar_DC (Gujarat)   \n",
            "4  trip-153741093647649320  IND388121AAA  Anand_VUNagar_DC (Gujarat)   \n",
            "\n",
            "  destination_center               destination_name           od_start_time  \\\n",
            "0       IND388620AAB  Khambhat_MotvdDPP_D (Gujarat) 2018-09-20 03:21:32.419   \n",
            "1       IND388620AAB  Khambhat_MotvdDPP_D (Gujarat) 2018-09-20 03:21:32.419   \n",
            "2       IND388620AAB  Khambhat_MotvdDPP_D (Gujarat) 2018-09-20 03:21:32.419   \n",
            "3       IND388620AAB  Khambhat_MotvdDPP_D (Gujarat) 2018-09-20 03:21:32.419   \n",
            "4       IND388620AAB  Khambhat_MotvdDPP_D (Gujarat) 2018-09-20 03:21:32.419   \n",
            "\n",
            "   ...        cutoff_timestamp  actual_distance_to_destination  actual_time  \\\n",
            "0  ... 2018-09-20 04:27:55.000                       10.435660         14.0   \n",
            "1  ... 2018-09-20 04:17:55.000                       18.936842         24.0   \n",
            "2  ... 2018-09-20 04:01:19.506                       27.637279         40.0   \n",
            "3  ... 2018-09-20 03:39:57.000                       36.118028         62.0   \n",
            "4  ... 2018-09-20 03:33:55.000                       39.386040         68.0   \n",
            "\n",
            "   osrm_time osrm_distance    factor  segment_actual_time  segment_osrm_time  \\\n",
            "0       11.0       11.9653  1.272727                 14.0               11.0   \n",
            "1       20.0       21.7243  1.200000                 10.0                9.0   \n",
            "2       28.0       32.5395  1.428571                 16.0                7.0   \n",
            "3       40.0       45.5620  1.550000                 21.0               12.0   \n",
            "4       44.0       54.2181  1.545455                  6.0                5.0   \n",
            "\n",
            "   segment_osrm_distance  segment_factor  \n",
            "0                11.9653        1.272727  \n",
            "1                 9.7590        1.111111  \n",
            "2                10.8152        2.285714  \n",
            "3                13.0224        1.750000  \n",
            "4                 3.9153        1.200000  \n",
            "\n",
            "[5 rows x 24 columns]\n",
            "<class 'pandas.core.frame.DataFrame'>\n",
            "RangeIndex: 227 entries, 0 to 226\n",
            "Data columns (total 24 columns):\n",
            " #   Column                          Non-Null Count  Dtype         \n",
            "---  ------                          --------------  -----         \n",
            " 0   data                            227 non-null    object        \n",
            " 1   trip_creation_time              227 non-null    datetime64[ns]\n",
            " 2   route_schedule_uuid             227 non-null    object        \n",
            " 3   route_type                      226 non-null    object        \n",
            " 4   trip_uuid                       226 non-null    object        \n",
            " 5   source_center                   226 non-null    object        \n",
            " 6   source_name                     216 non-null    object        \n",
            " 7   destination_center              226 non-null    object        \n",
            " 8   destination_name                224 non-null    object        \n",
            " 9   od_start_time                   226 non-null    datetime64[ns]\n",
            " 10  od_end_time                     226 non-null    datetime64[ns]\n",
            " 11  start_scan_to_end_scan          226 non-null    float64       \n",
            " 12  is_cutoff                       226 non-null    float64       \n",
            " 13  cutoff_factor                   226 non-null    float64       \n",
            " 14  cutoff_timestamp                226 non-null    datetime64[ns]\n",
            " 15  actual_distance_to_destination  226 non-null    float64       \n",
            " 16  actual_time                     226 non-null    float64       \n",
            " 17  osrm_time                       226 non-null    float64       \n",
            " 18  osrm_distance                   226 non-null    float64       \n",
            " 19  factor                          226 non-null    float64       \n",
            " 20  segment_actual_time             226 non-null    float64       \n",
            " 21  segment_osrm_time               226 non-null    float64       \n",
            " 22  segment_osrm_distance           226 non-null    float64       \n",
            " 23  segment_factor                  226 non-null    float64       \n",
            "dtypes: datetime64[ns](4), float64(12), object(8)\n",
            "memory usage: 42.7+ KB\n",
            "None\n",
            "data                               0\n",
            "trip_creation_time                 0\n",
            "route_schedule_uuid                0\n",
            "route_type                         1\n",
            "trip_uuid                          1\n",
            "source_center                      1\n",
            "source_name                       11\n",
            "destination_center                 1\n",
            "destination_name                   3\n",
            "od_start_time                      1\n",
            "od_end_time                        1\n",
            "start_scan_to_end_scan             1\n",
            "is_cutoff                          1\n",
            "cutoff_factor                      1\n",
            "cutoff_timestamp                   1\n",
            "actual_distance_to_destination     1\n",
            "actual_time                        1\n",
            "osrm_time                          1\n",
            "osrm_distance                      1\n",
            "factor                             1\n",
            "segment_actual_time                1\n",
            "segment_osrm_time                  1\n",
            "segment_osrm_distance              1\n",
            "segment_factor                     1\n",
            "dtype: int64\n"
          ]
        }
      ]
    },
    {
      "cell_type": "code",
      "source": [
        "# Filling missing values in categorical columns\n",
        "data['route_type'].fillna(data['route_type'].mode()[0], inplace=True)\n",
        "data['trip_uuid'].fillna('missing_trip_uuid', inplace=True)\n",
        "data['source_center'].fillna('missing_source_center', inplace=True)\n",
        "data['source_name'].fillna('missing_source_name', inplace=True)\n",
        "data['destination_center'].fillna('missing_destination_center', inplace=True)\n",
        "data['destination_name'].fillna('missing_destination_name', inplace=True)\n",
        "\n",
        "# Fill missing values in numeric columns with mean\n",
        "numeric_columns = data.select_dtypes(include=['float64']).columns\n",
        "data[numeric_columns] = data[numeric_columns].fillna(data[numeric_columns].mean())\n",
        "\n",
        "# Forward fill date columns if any missing values\n",
        "date_columns = data.select_dtypes(include=['datetime64']).columns\n",
        "data[date_columns] = data[date_columns].fillna(method='ffill')\n",
        "\n",
        "# Verify missing values are handled\n",
        "print(data.isnull().sum())"
      ],
      "metadata": {
        "colab": {
          "base_uri": "https://localhost:8080/"
        },
        "id": "LC6_9b-JcyOa",
        "outputId": "b1222329-1133-4845-85ba-6dc1772b7e51"
      },
      "execution_count": 4,
      "outputs": [
        {
          "output_type": "stream",
          "name": "stdout",
          "text": [
            "data                              0\n",
            "trip_creation_time                0\n",
            "route_schedule_uuid               0\n",
            "route_type                        0\n",
            "trip_uuid                         0\n",
            "source_center                     0\n",
            "source_name                       0\n",
            "destination_center                0\n",
            "destination_name                  0\n",
            "od_start_time                     0\n",
            "od_end_time                       0\n",
            "start_scan_to_end_scan            0\n",
            "is_cutoff                         0\n",
            "cutoff_factor                     0\n",
            "cutoff_timestamp                  0\n",
            "actual_distance_to_destination    0\n",
            "actual_time                       0\n",
            "osrm_time                         0\n",
            "osrm_distance                     0\n",
            "factor                            0\n",
            "segment_actual_time               0\n",
            "segment_osrm_time                 0\n",
            "segment_osrm_distance             0\n",
            "segment_factor                    0\n",
            "dtype: int64\n"
          ]
        },
        {
          "output_type": "stream",
          "name": "stderr",
          "text": [
            "<ipython-input-4-facf3c4e13d2>:2: FutureWarning: A value is trying to be set on a copy of a DataFrame or Series through chained assignment using an inplace method.\n",
            "The behavior will change in pandas 3.0. This inplace method will never work because the intermediate object on which we are setting values always behaves as a copy.\n",
            "\n",
            "For example, when doing 'df[col].method(value, inplace=True)', try using 'df.method({col: value}, inplace=True)' or df[col] = df[col].method(value) instead, to perform the operation inplace on the original object.\n",
            "\n",
            "\n",
            "  data['route_type'].fillna(data['route_type'].mode()[0], inplace=True)\n",
            "<ipython-input-4-facf3c4e13d2>:3: FutureWarning: A value is trying to be set on a copy of a DataFrame or Series through chained assignment using an inplace method.\n",
            "The behavior will change in pandas 3.0. This inplace method will never work because the intermediate object on which we are setting values always behaves as a copy.\n",
            "\n",
            "For example, when doing 'df[col].method(value, inplace=True)', try using 'df.method({col: value}, inplace=True)' or df[col] = df[col].method(value) instead, to perform the operation inplace on the original object.\n",
            "\n",
            "\n",
            "  data['trip_uuid'].fillna('missing_trip_uuid', inplace=True)\n",
            "<ipython-input-4-facf3c4e13d2>:4: FutureWarning: A value is trying to be set on a copy of a DataFrame or Series through chained assignment using an inplace method.\n",
            "The behavior will change in pandas 3.0. This inplace method will never work because the intermediate object on which we are setting values always behaves as a copy.\n",
            "\n",
            "For example, when doing 'df[col].method(value, inplace=True)', try using 'df.method({col: value}, inplace=True)' or df[col] = df[col].method(value) instead, to perform the operation inplace on the original object.\n",
            "\n",
            "\n",
            "  data['source_center'].fillna('missing_source_center', inplace=True)\n",
            "<ipython-input-4-facf3c4e13d2>:5: FutureWarning: A value is trying to be set on a copy of a DataFrame or Series through chained assignment using an inplace method.\n",
            "The behavior will change in pandas 3.0. This inplace method will never work because the intermediate object on which we are setting values always behaves as a copy.\n",
            "\n",
            "For example, when doing 'df[col].method(value, inplace=True)', try using 'df.method({col: value}, inplace=True)' or df[col] = df[col].method(value) instead, to perform the operation inplace on the original object.\n",
            "\n",
            "\n",
            "  data['source_name'].fillna('missing_source_name', inplace=True)\n",
            "<ipython-input-4-facf3c4e13d2>:6: FutureWarning: A value is trying to be set on a copy of a DataFrame or Series through chained assignment using an inplace method.\n",
            "The behavior will change in pandas 3.0. This inplace method will never work because the intermediate object on which we are setting values always behaves as a copy.\n",
            "\n",
            "For example, when doing 'df[col].method(value, inplace=True)', try using 'df.method({col: value}, inplace=True)' or df[col] = df[col].method(value) instead, to perform the operation inplace on the original object.\n",
            "\n",
            "\n",
            "  data['destination_center'].fillna('missing_destination_center', inplace=True)\n",
            "<ipython-input-4-facf3c4e13d2>:7: FutureWarning: A value is trying to be set on a copy of a DataFrame or Series through chained assignment using an inplace method.\n",
            "The behavior will change in pandas 3.0. This inplace method will never work because the intermediate object on which we are setting values always behaves as a copy.\n",
            "\n",
            "For example, when doing 'df[col].method(value, inplace=True)', try using 'df.method({col: value}, inplace=True)' or df[col] = df[col].method(value) instead, to perform the operation inplace on the original object.\n",
            "\n",
            "\n",
            "  data['destination_name'].fillna('missing_destination_name', inplace=True)\n",
            "<ipython-input-4-facf3c4e13d2>:15: FutureWarning: DataFrame.fillna with 'method' is deprecated and will raise in a future version. Use obj.ffill() or obj.bfill() instead.\n",
            "  data[date_columns] = data[date_columns].fillna(method='ffill')\n"
          ]
        }
      ]
    },
    {
      "cell_type": "code",
      "source": [
        "# Convert categorical columns to 'category' data type\n",
        "categorical_columns = ['data', 'route_type', 'source_center', 'destination_center']\n",
        "data[categorical_columns] = data[categorical_columns].astype('category')\n",
        "\n",
        "# Check data types\n",
        "print(data.dtypes)"
      ],
      "metadata": {
        "colab": {
          "base_uri": "https://localhost:8080/"
        },
        "id": "YEModeCgc3_a",
        "outputId": "301ae473-4b1d-4de1-bb2e-a7a4589dada3"
      },
      "execution_count": 5,
      "outputs": [
        {
          "output_type": "stream",
          "name": "stdout",
          "text": [
            "data                                    category\n",
            "trip_creation_time                datetime64[ns]\n",
            "route_schedule_uuid                       object\n",
            "route_type                              category\n",
            "trip_uuid                                 object\n",
            "source_center                           category\n",
            "source_name                               object\n",
            "destination_center                      category\n",
            "destination_name                          object\n",
            "od_start_time                     datetime64[ns]\n",
            "od_end_time                       datetime64[ns]\n",
            "start_scan_to_end_scan                   float64\n",
            "is_cutoff                                float64\n",
            "cutoff_factor                            float64\n",
            "cutoff_timestamp                  datetime64[ns]\n",
            "actual_distance_to_destination           float64\n",
            "actual_time                              float64\n",
            "osrm_time                                float64\n",
            "osrm_distance                            float64\n",
            "factor                                   float64\n",
            "segment_actual_time                      float64\n",
            "segment_osrm_time                        float64\n",
            "segment_osrm_distance                    float64\n",
            "segment_factor                           float64\n",
            "dtype: object\n"
          ]
        }
      ]
    },
    {
      "cell_type": "code",
      "source": [
        "# Calculate trip duration in minutes\n",
        "data['trip_duration'] = (data['od_end_time'] - data['od_start_time']).dt.total_seconds() / 60\n",
        "\n",
        "# Extract day of the week and month from trip creation time\n",
        "data['trip_creation_day'] = data['trip_creation_time'].dt.day_name()\n",
        "data['trip_creation_month'] = data['trip_creation_time'].dt.month\n",
        "\n",
        "# Check new features\n",
        "print(data[['trip_duration', 'trip_creation_day', 'trip_creation_month']].head())"
      ],
      "metadata": {
        "colab": {
          "base_uri": "https://localhost:8080/"
        },
        "id": "fuqLQF77c7tZ",
        "outputId": "f590be05-98e5-45f9-8d21-37bcac8ec44e"
      },
      "execution_count": 6,
      "outputs": [
        {
          "output_type": "stream",
          "name": "stdout",
          "text": [
            "   trip_duration trip_creation_day  trip_creation_month\n",
            "0      86.213633          Thursday                    9\n",
            "1      86.213633          Thursday                    9\n",
            "2      86.213633          Thursday                    9\n",
            "3      86.213633          Thursday                    9\n",
            "4      86.213633          Thursday                    9\n"
          ]
        }
      ]
    },
    {
      "cell_type": "code",
      "source": [
        "# Standardize column names to a consistent format\n",
        "data.columns = [col.lower().replace(' ', '_') for col in data.columns]"
      ],
      "metadata": {
        "id": "rNorvK1Ac-8C"
      },
      "execution_count": 7,
      "outputs": []
    },
    {
      "cell_type": "code",
      "source": [
        "# Save the cleaned dataset to a CSV file\n",
        "data.to_csv('cleaned_logistics_data.csv', index=False)\n",
        "\n",
        "# Download the cleaned dataset to your local system\n",
        "files.download('cleaned_logistics_data.csv')"
      ],
      "metadata": {
        "colab": {
          "base_uri": "https://localhost:8080/",
          "height": 17
        },
        "id": "uOWNLHVOdCP_",
        "outputId": "e7a33375-1cb3-4863-a1a9-aebae91e4296"
      },
      "execution_count": 8,
      "outputs": [
        {
          "output_type": "display_data",
          "data": {
            "text/plain": [
              "<IPython.core.display.Javascript object>"
            ],
            "application/javascript": [
              "\n",
              "    async function download(id, filename, size) {\n",
              "      if (!google.colab.kernel.accessAllowed) {\n",
              "        return;\n",
              "      }\n",
              "      const div = document.createElement('div');\n",
              "      const label = document.createElement('label');\n",
              "      label.textContent = `Downloading \"${filename}\": `;\n",
              "      div.appendChild(label);\n",
              "      const progress = document.createElement('progress');\n",
              "      progress.max = size;\n",
              "      div.appendChild(progress);\n",
              "      document.body.appendChild(div);\n",
              "\n",
              "      const buffers = [];\n",
              "      let downloaded = 0;\n",
              "\n",
              "      const channel = await google.colab.kernel.comms.open(id);\n",
              "      // Send a message to notify the kernel that we're ready.\n",
              "      channel.send({})\n",
              "\n",
              "      for await (const message of channel.messages) {\n",
              "        // Send a message to notify the kernel that we're ready.\n",
              "        channel.send({})\n",
              "        if (message.buffers) {\n",
              "          for (const buffer of message.buffers) {\n",
              "            buffers.push(buffer);\n",
              "            downloaded += buffer.byteLength;\n",
              "            progress.value = downloaded;\n",
              "          }\n",
              "        }\n",
              "      }\n",
              "      const blob = new Blob(buffers, {type: 'application/binary'});\n",
              "      const a = document.createElement('a');\n",
              "      a.href = window.URL.createObjectURL(blob);\n",
              "      a.download = filename;\n",
              "      div.appendChild(a);\n",
              "      a.click();\n",
              "      div.remove();\n",
              "    }\n",
              "  "
            ]
          },
          "metadata": {}
        },
        {
          "output_type": "display_data",
          "data": {
            "text/plain": [
              "<IPython.core.display.Javascript object>"
            ],
            "application/javascript": [
              "download(\"download_470de349-2444-49dd-8407-ab94d95d0f40\", \"cleaned_logistics_data.csv\", 90326)"
            ]
          },
          "metadata": {}
        }
      ]
    }
  ]
}